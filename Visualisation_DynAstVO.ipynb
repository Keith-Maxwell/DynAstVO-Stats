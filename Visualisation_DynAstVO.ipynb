{
 "cells": [
  {
   "cell_type": "markdown",
   "metadata": {},
   "source": [
    "# Visualisation of the DynAstVO database"
   ]
  },
  {
   "cell_type": "code",
   "execution_count": 24,
   "metadata": {},
   "outputs": [],
   "source": [
    "import pandas as pd\n",
    "import numpy as np\n",
    "import seaborn as sns\n",
    "from packages.DataCleaner import cleanData"
   ]
  },
  {
   "cell_type": "markdown",
   "metadata": {},
   "source": [
    "## Cleaning the data file\n",
    "\n",
    "The raw file contains Optical, Spatial and Radar observations, which are written in the text file using different formats. We need to clean this file in order to work with the data. We split the file into 2 distinct files, suppressing every useless line of data (object header and the position of a satellite in the case of spatial observation)"
   ]
  },
  {
   "cell_type": "code",
   "execution_count": 25,
   "metadata": {
    "tags": []
   },
   "outputs": [
    {
     "output_type": "stream",
     "name": "stderr",
     "text": "2571320it [00:09, 264260.89it/s]\n"
    }
   ],
   "source": [
    "INPUT_FILE = 'Data\\\\OMC20200621.txt'\n",
    "OPTICAL_SPACE_OUTPUT_FILE = 'Data\\\\OpticalSpaceData.txt'\n",
    "RADAR_OUTPUT_FILE = 'Data\\\\RadarData.txt'\n",
    "\n",
    "cleanData(INPUT_FILE, OPTICAL_SPACE_OUTPUT_FILE, RADAR_OUTPUT_FILE)"
   ]
  },
  {
   "cell_type": "markdown",
   "metadata": {},
   "source": [
    "## Reading the data\n",
    "\n",
    "### Optical and Spatial data\n",
    "\n",
    "Firstly, we give a name to every column (cf documentation), and we read the file, previously separated according to the type of observation.\n",
    "We start with the optical and spatial observations together in the same Dataframe because they have the same format."
   ]
  },
  {
   "cell_type": "code",
   "execution_count": 26,
   "metadata": {},
   "outputs": [],
   "source": [
    "\n",
    "OScolnames = ['obs Type', 'measure Type', 'year', 'month', 'day', 'RA', 'DEC', 'Obs Code', 'RA bias correction', 'DEC bias correction', 'RA precision', 'DEC precision', 'acceptance', '???', 'mag', 'nbr obs', 'random number', 'RA delta', 'DEC delta', 'xhi square', 'mag acceptance', 'mag delta', 'object number']\n",
    "\n",
    "OSdata = pd.read_fwf(\"Data\\\\OpticalSpaceData.txt\", header=None, names=OScolnames)"
   ]
  },
  {
   "cell_type": "markdown",
   "metadata": {},
   "source": [
    "### Radar Data\n",
    "\n",
    "We repeat this step for the Radar data, which uses a different format."
   ]
  },
  {
   "cell_type": "code",
   "execution_count": 27,
   "metadata": {},
   "outputs": [],
   "source": [
    "RadarColnames = ['obs Type', 'measure Type', 'year', 'month', 'day', 'Distance/Velocity', 'c', 'Obs Code tr', 'Obs Code rc', 'bias correction', 'precision', 'acceptance', 'RA delta', 'xhi square', 'object number']\n",
    "\n",
    "Rdata = pd.read_fwf('Data\\\\RadarData.txt', header=None, names=RadarColnames)"
   ]
  },
  {
   "cell_type": "markdown",
   "metadata": {},
   "source": [
    "## Creating the dataframe\n",
    "\n",
    "Finally, we need to concatenate the data from those two dataframes so that we have a unique datframe with everything ordered."
   ]
  },
  {
   "cell_type": "code",
   "execution_count": 28,
   "metadata": {},
   "outputs": [
    {
     "output_type": "execute_result",
     "data": {
      "text/plain": "  obs Type measure Type  year  month       day          RA        DEC  \\\n0        O            A  1983     10  27.04763  338.823750 -57.261472   \n1        O            A  1983     11   1.41522  333.427500 -57.313333   \n2        O            A  1983     11   1.48679  333.372500 -57.308333   \n3        O            A  1983     11   3.43435  331.299417 -57.226111   \n4        O            A  1983     11   3.44824  331.286625 -57.225583   \n5        O            A  1983     11  11.47681  321.800250 -56.247722   \n6        O            A  1983     11  11.49764  321.775167 -56.242750   \n7        O            A  1984      1  23.55489  235.140500  15.198500   \n8        O            A  1984      1  29.50347  235.135792  16.081417   \n9        O            A  1984      1  29.52778  235.135375  16.083722   \n\n  Obs Code  RA bias correction  DEC bias correction  ...  xhi square  \\\n0      809                 0.0                  0.0  ...        0.06   \n1      500                 0.0                  0.0  ...       12.01   \n2      500                 0.0                  0.0  ...        6.75   \n3      413                 0.0                  0.0  ...        1.85   \n4      413                 0.0                  0.0  ...        1.12   \n5      413                 0.0                  0.0  ...        3.79   \n6      413                 0.0                  0.0  ...        6.75   \n7      675                 0.0                  0.0  ...        0.69   \n8      675                 0.0                  0.0  ...        2.59   \n9      675                 0.0                  0.0  ...        0.94   \n\n   mag acceptance  mag delta object number  Distance/Velocity    c  \\\n0             NaN        NaN        100004                NaN  NaN   \n1             1.0       0.45        100004                NaN  NaN   \n2             NaN        NaN        100004                NaN  NaN   \n3             1.0       0.47        100004                NaN  NaN   \n4             NaN        NaN        100004                NaN  NaN   \n5             NaN        NaN        100004                NaN  NaN   \n6             NaN        NaN        100004                NaN  NaN   \n7             NaN        NaN        100004                NaN  NaN   \n8             NaN        NaN        100004                NaN  NaN   \n9             NaN        NaN        100004                NaN  NaN   \n\n   Obs Code tr Obs Code rc bias correction precision  \n0          NaN         NaN             NaN       NaN  \n1          NaN         NaN             NaN       NaN  \n2          NaN         NaN             NaN       NaN  \n3          NaN         NaN             NaN       NaN  \n4          NaN         NaN             NaN       NaN  \n5          NaN         NaN             NaN       NaN  \n6          NaN         NaN             NaN       NaN  \n7          NaN         NaN             NaN       NaN  \n8          NaN         NaN             NaN       NaN  \n9          NaN         NaN             NaN       NaN  \n\n[10 rows x 29 columns]",
      "text/html": "<div>\n<style scoped>\n    .dataframe tbody tr th:only-of-type {\n        vertical-align: middle;\n    }\n\n    .dataframe tbody tr th {\n        vertical-align: top;\n    }\n\n    .dataframe thead th {\n        text-align: right;\n    }\n</style>\n<table border=\"1\" class=\"dataframe\">\n  <thead>\n    <tr style=\"text-align: right;\">\n      <th></th>\n      <th>obs Type</th>\n      <th>measure Type</th>\n      <th>year</th>\n      <th>month</th>\n      <th>day</th>\n      <th>RA</th>\n      <th>DEC</th>\n      <th>Obs Code</th>\n      <th>RA bias correction</th>\n      <th>DEC bias correction</th>\n      <th>...</th>\n      <th>xhi square</th>\n      <th>mag acceptance</th>\n      <th>mag delta</th>\n      <th>object number</th>\n      <th>Distance/Velocity</th>\n      <th>c</th>\n      <th>Obs Code tr</th>\n      <th>Obs Code rc</th>\n      <th>bias correction</th>\n      <th>precision</th>\n    </tr>\n  </thead>\n  <tbody>\n    <tr>\n      <th>0</th>\n      <td>O</td>\n      <td>A</td>\n      <td>1983</td>\n      <td>10</td>\n      <td>27.04763</td>\n      <td>338.823750</td>\n      <td>-57.261472</td>\n      <td>809</td>\n      <td>0.0</td>\n      <td>0.0</td>\n      <td>...</td>\n      <td>0.06</td>\n      <td>NaN</td>\n      <td>NaN</td>\n      <td>100004</td>\n      <td>NaN</td>\n      <td>NaN</td>\n      <td>NaN</td>\n      <td>NaN</td>\n      <td>NaN</td>\n      <td>NaN</td>\n    </tr>\n    <tr>\n      <th>1</th>\n      <td>O</td>\n      <td>A</td>\n      <td>1983</td>\n      <td>11</td>\n      <td>1.41522</td>\n      <td>333.427500</td>\n      <td>-57.313333</td>\n      <td>500</td>\n      <td>0.0</td>\n      <td>0.0</td>\n      <td>...</td>\n      <td>12.01</td>\n      <td>1.0</td>\n      <td>0.45</td>\n      <td>100004</td>\n      <td>NaN</td>\n      <td>NaN</td>\n      <td>NaN</td>\n      <td>NaN</td>\n      <td>NaN</td>\n      <td>NaN</td>\n    </tr>\n    <tr>\n      <th>2</th>\n      <td>O</td>\n      <td>A</td>\n      <td>1983</td>\n      <td>11</td>\n      <td>1.48679</td>\n      <td>333.372500</td>\n      <td>-57.308333</td>\n      <td>500</td>\n      <td>0.0</td>\n      <td>0.0</td>\n      <td>...</td>\n      <td>6.75</td>\n      <td>NaN</td>\n      <td>NaN</td>\n      <td>100004</td>\n      <td>NaN</td>\n      <td>NaN</td>\n      <td>NaN</td>\n      <td>NaN</td>\n      <td>NaN</td>\n      <td>NaN</td>\n    </tr>\n    <tr>\n      <th>3</th>\n      <td>O</td>\n      <td>A</td>\n      <td>1983</td>\n      <td>11</td>\n      <td>3.43435</td>\n      <td>331.299417</td>\n      <td>-57.226111</td>\n      <td>413</td>\n      <td>0.0</td>\n      <td>0.0</td>\n      <td>...</td>\n      <td>1.85</td>\n      <td>1.0</td>\n      <td>0.47</td>\n      <td>100004</td>\n      <td>NaN</td>\n      <td>NaN</td>\n      <td>NaN</td>\n      <td>NaN</td>\n      <td>NaN</td>\n      <td>NaN</td>\n    </tr>\n    <tr>\n      <th>4</th>\n      <td>O</td>\n      <td>A</td>\n      <td>1983</td>\n      <td>11</td>\n      <td>3.44824</td>\n      <td>331.286625</td>\n      <td>-57.225583</td>\n      <td>413</td>\n      <td>0.0</td>\n      <td>0.0</td>\n      <td>...</td>\n      <td>1.12</td>\n      <td>NaN</td>\n      <td>NaN</td>\n      <td>100004</td>\n      <td>NaN</td>\n      <td>NaN</td>\n      <td>NaN</td>\n      <td>NaN</td>\n      <td>NaN</td>\n      <td>NaN</td>\n    </tr>\n    <tr>\n      <th>5</th>\n      <td>O</td>\n      <td>A</td>\n      <td>1983</td>\n      <td>11</td>\n      <td>11.47681</td>\n      <td>321.800250</td>\n      <td>-56.247722</td>\n      <td>413</td>\n      <td>0.0</td>\n      <td>0.0</td>\n      <td>...</td>\n      <td>3.79</td>\n      <td>NaN</td>\n      <td>NaN</td>\n      <td>100004</td>\n      <td>NaN</td>\n      <td>NaN</td>\n      <td>NaN</td>\n      <td>NaN</td>\n      <td>NaN</td>\n      <td>NaN</td>\n    </tr>\n    <tr>\n      <th>6</th>\n      <td>O</td>\n      <td>A</td>\n      <td>1983</td>\n      <td>11</td>\n      <td>11.49764</td>\n      <td>321.775167</td>\n      <td>-56.242750</td>\n      <td>413</td>\n      <td>0.0</td>\n      <td>0.0</td>\n      <td>...</td>\n      <td>6.75</td>\n      <td>NaN</td>\n      <td>NaN</td>\n      <td>100004</td>\n      <td>NaN</td>\n      <td>NaN</td>\n      <td>NaN</td>\n      <td>NaN</td>\n      <td>NaN</td>\n      <td>NaN</td>\n    </tr>\n    <tr>\n      <th>7</th>\n      <td>O</td>\n      <td>A</td>\n      <td>1984</td>\n      <td>1</td>\n      <td>23.55489</td>\n      <td>235.140500</td>\n      <td>15.198500</td>\n      <td>675</td>\n      <td>0.0</td>\n      <td>0.0</td>\n      <td>...</td>\n      <td>0.69</td>\n      <td>NaN</td>\n      <td>NaN</td>\n      <td>100004</td>\n      <td>NaN</td>\n      <td>NaN</td>\n      <td>NaN</td>\n      <td>NaN</td>\n      <td>NaN</td>\n      <td>NaN</td>\n    </tr>\n    <tr>\n      <th>8</th>\n      <td>O</td>\n      <td>A</td>\n      <td>1984</td>\n      <td>1</td>\n      <td>29.50347</td>\n      <td>235.135792</td>\n      <td>16.081417</td>\n      <td>675</td>\n      <td>0.0</td>\n      <td>0.0</td>\n      <td>...</td>\n      <td>2.59</td>\n      <td>NaN</td>\n      <td>NaN</td>\n      <td>100004</td>\n      <td>NaN</td>\n      <td>NaN</td>\n      <td>NaN</td>\n      <td>NaN</td>\n      <td>NaN</td>\n      <td>NaN</td>\n    </tr>\n    <tr>\n      <th>9</th>\n      <td>O</td>\n      <td>A</td>\n      <td>1984</td>\n      <td>1</td>\n      <td>29.52778</td>\n      <td>235.135375</td>\n      <td>16.083722</td>\n      <td>675</td>\n      <td>0.0</td>\n      <td>0.0</td>\n      <td>...</td>\n      <td>0.94</td>\n      <td>NaN</td>\n      <td>NaN</td>\n      <td>100004</td>\n      <td>NaN</td>\n      <td>NaN</td>\n      <td>NaN</td>\n      <td>NaN</td>\n      <td>NaN</td>\n      <td>NaN</td>\n    </tr>\n  </tbody>\n</table>\n<p>10 rows × 29 columns</p>\n</div>"
     },
     "metadata": {},
     "execution_count": 28
    }
   ],
   "source": [
    "vertical_stack = pd.concat([OSdata, Rdata], axis=0)\n",
    "vertical_stack.head(10)"
   ]
  },
  {
   "cell_type": "code",
   "execution_count": null,
   "metadata": {},
   "outputs": [],
   "source": []
  }
 ],
 "metadata": {
  "language_info": {
   "codemirror_mode": {
    "name": "ipython",
    "version": 3
   },
   "file_extension": ".py",
   "mimetype": "text/x-python",
   "name": "python",
   "nbconvert_exporter": "python",
   "pygments_lexer": "ipython3",
   "version": "3.8.3-final"
  },
  "orig_nbformat": 2,
  "kernelspec": {
   "name": "python38364bitvenvvenvf0654de04bec4787b00a87ccaf592e6a",
   "display_name": "Python 3.8.3 64-bit ('venv': venv)"
  }
 },
 "nbformat": 4,
 "nbformat_minor": 2
}