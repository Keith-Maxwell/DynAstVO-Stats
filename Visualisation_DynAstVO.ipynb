{
 "cells": [
  {
   "cell_type": "markdown",
   "metadata": {},
   "source": [
    "# Visualisation of the DynAstVO database"
   ]
  },
  {
   "cell_type": "code",
   "execution_count": 1,
   "metadata": {},
   "outputs": [],
   "source": [
    "import pandas as pd\n",
    "import numpy as np\n",
    "import seaborn as sns\n",
    "import matplotlib.pyplot as plt\n",
    "from packages.dataCleaner import cleanData\n",
    "from packages.chunkReader import readByChunks, concatenate"
   ]
  },
  {
   "cell_type": "markdown",
   "metadata": {},
   "source": [
    "## Cleaning the data file\n",
    "\n",
    "The raw file contains Optical, Spatial and Radar observations, which are written in the text file using different formats. We need to clean this file in order to work with the data. We split the file into 2 distinct files, suppressing every useless line of data (object header and the position of a satellite in the case of spatial observation)"
   ]
  },
  {
   "cell_type": "code",
   "execution_count": 2,
   "metadata": {
    "tags": []
   },
   "outputs": [
    {
     "output_type": "stream",
     "name": "stderr",
     "text": "3528it [00:00, 207518.26it/s]\n"
    }
   ],
   "source": [
    "INPUT_FILE = 'Data\\\\OMC20200621_Sample.txt'\n",
    "OPTICAL_SPACE_OUTPUT_FILE = 'Data\\\\OpticalSpaceData.txt'\n",
    "RADAR_OUTPUT_FILE = 'Data\\\\RadarData.txt'\n",
    "\n",
    "cleanData(INPUT_FILE, OPTICAL_SPACE_OUTPUT_FILE, RADAR_OUTPUT_FILE)"
   ]
  },
  {
   "cell_type": "markdown",
   "metadata": {},
   "source": [
    "## Reading the data\n",
    "\n",
    "### Optical and Spatial data\n",
    "\n",
    "Firstly, we give a name to every column (cf documentation), and we read the file, previously separated according to the type of observation.\n",
    "We start with the optical and spatial observations together in the same Dataframe because they have the same format."
   ]
  },
  {
   "cell_type": "code",
   "execution_count": 3,
   "metadata": {
    "tags": []
   },
   "outputs": [],
   "source": [
    "\n",
    "OScolnames = {'obs Type': 'category',\n",
    "              'measure Type': 'category',\n",
    "              'year': np.uint16,\n",
    "              'month': np.uint8,\n",
    "              'day': np.float64,\n",
    "              'RA': np.float64,\n",
    "              'DEC': np.float64,\n",
    "              'Obs Code': 'category',\n",
    "              'RA bias correction': np.float32,\n",
    "              'DEC bias correction': np.float32,\n",
    "              'RA precision': np.float64,\n",
    "              'DEC precision': np.float64,\n",
    "              'acceptance': 'bool',\n",
    "              'catalog': 'category',\n",
    "              'mag': np.float64,\n",
    "              'nbr obs': np.float16,\n",
    "              'random number': np.float64,\n",
    "              'RA delta': np.float64,\n",
    "              'DEC delta': np.float64,\n",
    "              'xhi square': np.float64,\n",
    "              'mag acceptance': np.float16,\n",
    "              'mag delta': np.float64,\n",
    "              'object number': 'category'}\n",
    "\n",
    "OSdata = readByChunks(\"Data\\\\OpticalSpaceData.txt\", OScolnames, 100000)\n"
   ]
  },
  {
   "cell_type": "markdown",
   "metadata": {},
   "source": [
    "### Radar Data\n",
    "\n",
    "We repeat this step for the Radar data, which uses a different format."
   ]
  },
  {
   "cell_type": "code",
   "execution_count": 5,
   "metadata": {},
   "outputs": [],
   "source": [
    "RadarColnames = {'obs Type': 'category',\n",
    "                 'measure Type': 'category',\n",
    "                 'year': np.uint16,\n",
    "                 'month': np.uint8,\n",
    "                 'day': np.float64,\n",
    "                 'Distance/Velocity': np.float64,\n",
    "                 'c': 'category',\n",
    "                 'Obs Code tr': 'category',\n",
    "                 'Obs Code rc': 'category',\n",
    "                 'bias correction': np.float32,\n",
    "                 'precision': np.float64,\n",
    "                 'acceptance': 'bool',\n",
    "                 'RA delta': np.float64,\n",
    "                 'xhi square': np.float64,\n",
    "                 'object number': 'category'}\n",
    "\n",
    "Rdata = readByChunks(\"Data\\\\RadarData.txt\", RadarColnames, 1000)"
   ]
  },
  {
   "cell_type": "markdown",
   "metadata": {},
   "source": [
    "## Creating the dataframe\n",
    "\n",
    "Finally, we need to concatenate the data from those two dataframes so that we have a unique dataframe with everything ordered."
   ]
  },
  {
   "cell_type": "code",
   "execution_count": 14,
   "metadata": {
    "tags": []
   },
   "outputs": [],
   "source": [
    "data_complete = concatenate([OSdata, Rdata])"
   ]
  },
  {
   "cell_type": "code",
   "execution_count": null,
   "metadata": {},
   "outputs": [],
   "source": []
  }
 ],
 "metadata": {
  "language_info": {
   "codemirror_mode": {
    "name": "ipython",
    "version": 3
   },
   "file_extension": ".py",
   "mimetype": "text/x-python",
   "name": "python",
   "nbconvert_exporter": "python",
   "pygments_lexer": "ipython3",
   "version": "3.8.3-final"
  },
  "orig_nbformat": 2,
  "kernelspec": {
   "name": "python38364bitvenvvenvf0654de04bec4787b00a87ccaf592e6a",
   "display_name": "Python 3.8.3 64-bit ('venv': venv)"
  }
 },
 "nbformat": 4,
 "nbformat_minor": 2
}