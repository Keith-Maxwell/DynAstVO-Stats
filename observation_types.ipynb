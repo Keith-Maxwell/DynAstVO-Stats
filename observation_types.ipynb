{
 "metadata": {
  "language_info": {
   "codemirror_mode": {
    "name": "ipython",
    "version": 3
   },
   "file_extension": ".py",
   "mimetype": "text/x-python",
   "name": "python",
   "nbconvert_exporter": "python",
   "pygments_lexer": "ipython3",
   "version": 3
  },
  "orig_nbformat": 2,
  "kernelspec": {
   "name": "python_defaultSpec_1595837363006",
   "display_name": "Python 3.8.3 64-bit ('venv': venv)"
  }
 },
 "nbformat": 4,
 "nbformat_minor": 2,
 "cells": [
  {
   "cell_type": "code",
   "execution_count": 1,
   "metadata": {},
   "outputs": [],
   "source": [
    "import pandas as pd\n",
    "import numpy as np"
   ]
  },
  {
   "cell_type": "code",
   "execution_count": 2,
   "metadata": {},
   "outputs": [],
   "source": [
    "OScolnames = {'object_number': 'category',\n",
    "              'obs_type': 'category',\n",
    "              'measure_type': 'category',\n",
    "              '?': 'category',\n",
    "              'year': np.uint16,\n",
    "              'month': np.uint8,\n",
    "              'day': np.float32,\n",
    "              'date_accuracy': np.float32,\n",
    "              'RA_HH': np.uint8,\n",
    "              'RA_mm': np.uint8,\n",
    "              'RA_ss': np.float32,\n",
    "              'RA_accuracy': np.float32,\n",
    "              'RA_RMS': np.float32,\n",
    "              #'RA_F': 'category',\n",
    "              'RA_bias': np.float32,\n",
    "              'RA_delta': np.float32,\n",
    "              'DEC_HH': np.uint8,\n",
    "              'DEC_mm': np.uint8,\n",
    "              'DEC_ss': np.float32,\n",
    "              'DEC_accuracy': np.float32,\n",
    "              'DEC_RMS': np.float32,\n",
    "              #'DEC_F': 'category',\n",
    "              'DEC_bias': np.float32,\n",
    "              'DEC_delta': np.float32,\n",
    "              'MAG': np.float32,\n",
    "              'MAG_B': 'category',\n",
    "              'MAG_RMS': np.float32,\n",
    "              'MAG_resid': np.float32,\n",
    "              'catalog': 'category',\n",
    "              'obs_code': 'category',\n",
    "              'xhi': np.float32,\n",
    "              'acceptance': 'bool',\n",
    "              'mag_acceptance': 'bool'}\n",
    "c=[(0, 11), (11, 13), (13, 15), (15, 17), (17, 21), (22, 25), (25, 40), (40, 50), (50, 53), (53, 56), (56, 64), (64, 77), (77, 83), (87, 94), (96, 103), (103, 107), (107, 110), (110, 117), (117, 130), (128, 136), (141, 148), (149, 156), (156, 161), (161, 164), (164, 170), (170, 178), (178, 180), (180, 186), (189, 194), (194, 196), (196, 197)]\n",
    "\n",
    "OSdata = pd.read_fwf(r'Data\\NEODYS_cleaned.txt', header=None, names=list(OScolnames.keys()), dtype={'obs_code': 'category', 'measure_type': 'category'}, colspecs=c, low_memory=True, index_col=False, usecols=['year', 'obs_code', 'acceptance', 'measure_type', 'RA_delta', 'DEC_delta', 'xhi'], error_bad_lines=False)"
   ]
  },
  {
   "cell_type": "markdown",
   "metadata": {},
   "source": [
    "---\n",
    "# Statistics per observation type"
   ]
  },
  {
   "cell_type": "code",
   "execution_count": 3,
   "metadata": {},
   "outputs": [],
   "source": [
    "types_dict = {'C':'CCD',\n",
    "              'S':'Space observation',\n",
    "              'A':'Observations from B1950.0 converted to J2000.',\n",
    "              'c':'Corrected without republication CCD observation',\n",
    "              'P': 'Photographic',\n",
    "              'T':'Meridian or transit circle ',\n",
    "              'X':'Discovery observation ',\n",
    "              'x':'Discovery observation ',\n",
    "              'M':'Micrometer ',\n",
    "              'H':'Hipparcos geocentric observation ',\n",
    "              'R':'Radar Observation',\n",
    "              'E':'Occultations derived observation ',\n",
    "              'V':'Roving observer observation',\n",
    "              'n':'Video frames',\n",
    "              'e':'Encoder ' }"
   ]
  },
  {
   "cell_type": "code",
   "execution_count": 4,
   "metadata": {},
   "outputs": [],
   "source": [
    "def get_accuracy(typ):\n",
    "    df = OSdata[(OSdata['acceptance']==True) & (OSdata['measure_type'] == typ) & (OSdata['xhi'] < 3) & (OSdata['RA_delta'] < 100)]\n",
    "    return np.sqrt(np.power(df.xhi, 2).sum() / len(df))"
   ]
  },
  {
   "cell_type": "code",
   "execution_count": 5,
   "metadata": {},
   "outputs": [],
   "source": [
    "types = list(OSdata['measure_type'].value_counts().index)\n",
    "table = pd.DataFrame(index=types, columns=['description', 'count', 'percentage', 'acceptance', 'accuracy', 'timespan'])\n",
    "for t in types:\n",
    "    description = types_dict[t]\n",
    "    count = len(OSdata[(OSdata['measure_type'] == t)].index)\n",
    "    percentage = count / len(OSdata.index) * 100\n",
    "    acceptance = (len(OSdata[(OSdata['measure_type'] == t) & (OSdata['acceptance']==True) & (OSdata['xhi'] < 3) & (OSdata['RA_delta'] < 100)]) / count * 100) if count > 0 else 'x'\n",
    "    accuracy = get_accuracy(t)\n",
    "    timespan = str(OSdata[OSdata['measure_type'] == t].year.min()) + '-' + str(OSdata[OSdata['measure_type'] == t].year.max())\n",
    "    table.loc[t] = pd.Series({'description':description, 'count':count, 'percentage':percentage, 'acceptance':acceptance, 'accuracy':accuracy, 'timespan':timespan})"
   ]
  },
  {
   "cell_type": "code",
   "execution_count": 6,
   "metadata": {
    "tags": []
   },
   "outputs": [
    {
     "output_type": "execute_result",
     "data": {
      "text/plain": "                                       description    count   percentage  \\\nC                                              CCD  2444155       97.193   \nS                                Space observation    44493      1.76929   \nA    Observations from B1950.0 converted to J2000.    14125     0.561688   \nc  Corrected without republication CCD observation     5308     0.211075   \nP                                     Photographic     3955     0.157273   \nn                                     Video frames     1736    0.0690329   \nM                                      Micrometer       642    0.0255294   \nV                      Roving observer observation      134   0.00532858   \nx                           Discovery observation       101   0.00401631   \nT                      Meridian or transit circle        59   0.00234616   \nX                           Discovery observation        26    0.0010339   \nE                Occultations derived observation         7  0.000278358   \ne                                         Encoder         2   7.9531e-05   \n\n  acceptance    accuracy   timespan  \nC    99.2423     0.72903  1990-2020  \nS    99.8651    0.849403  1994-2020  \nA    98.7257     0.84234  1893-1998  \nc    97.2494     1.02603  1991-2013  \nP     99.823    0.713469  1898-2017  \nn    99.8848    0.383063  2009-2020  \nM    99.8442    0.850922  1898-1935  \nV    86.5672    0.741251  2001-2020  \nx        100  0.00959579  2010-2010  \nT        100    0.968745  1988-1995  \nX          0         NaN  1898-2018  \nE        100     1.15912  1975-2011  \ne        100    0.724224  1993-1994  ",
      "text/html": "<div>\n<style scoped>\n    .dataframe tbody tr th:only-of-type {\n        vertical-align: middle;\n    }\n\n    .dataframe tbody tr th {\n        vertical-align: top;\n    }\n\n    .dataframe thead th {\n        text-align: right;\n    }\n</style>\n<table border=\"1\" class=\"dataframe\">\n  <thead>\n    <tr style=\"text-align: right;\">\n      <th></th>\n      <th>description</th>\n      <th>count</th>\n      <th>percentage</th>\n      <th>acceptance</th>\n      <th>accuracy</th>\n      <th>timespan</th>\n    </tr>\n  </thead>\n  <tbody>\n    <tr>\n      <th>C</th>\n      <td>CCD</td>\n      <td>2444155</td>\n      <td>97.193</td>\n      <td>99.2423</td>\n      <td>0.72903</td>\n      <td>1990-2020</td>\n    </tr>\n    <tr>\n      <th>S</th>\n      <td>Space observation</td>\n      <td>44493</td>\n      <td>1.76929</td>\n      <td>99.8651</td>\n      <td>0.849403</td>\n      <td>1994-2020</td>\n    </tr>\n    <tr>\n      <th>A</th>\n      <td>Observations from B1950.0 converted to J2000.</td>\n      <td>14125</td>\n      <td>0.561688</td>\n      <td>98.7257</td>\n      <td>0.84234</td>\n      <td>1893-1998</td>\n    </tr>\n    <tr>\n      <th>c</th>\n      <td>Corrected without republication CCD observation</td>\n      <td>5308</td>\n      <td>0.211075</td>\n      <td>97.2494</td>\n      <td>1.02603</td>\n      <td>1991-2013</td>\n    </tr>\n    <tr>\n      <th>P</th>\n      <td>Photographic</td>\n      <td>3955</td>\n      <td>0.157273</td>\n      <td>99.823</td>\n      <td>0.713469</td>\n      <td>1898-2017</td>\n    </tr>\n    <tr>\n      <th>n</th>\n      <td>Video frames</td>\n      <td>1736</td>\n      <td>0.0690329</td>\n      <td>99.8848</td>\n      <td>0.383063</td>\n      <td>2009-2020</td>\n    </tr>\n    <tr>\n      <th>M</th>\n      <td>Micrometer</td>\n      <td>642</td>\n      <td>0.0255294</td>\n      <td>99.8442</td>\n      <td>0.850922</td>\n      <td>1898-1935</td>\n    </tr>\n    <tr>\n      <th>V</th>\n      <td>Roving observer observation</td>\n      <td>134</td>\n      <td>0.00532858</td>\n      <td>86.5672</td>\n      <td>0.741251</td>\n      <td>2001-2020</td>\n    </tr>\n    <tr>\n      <th>x</th>\n      <td>Discovery observation</td>\n      <td>101</td>\n      <td>0.00401631</td>\n      <td>100</td>\n      <td>0.00959579</td>\n      <td>2010-2010</td>\n    </tr>\n    <tr>\n      <th>T</th>\n      <td>Meridian or transit circle</td>\n      <td>59</td>\n      <td>0.00234616</td>\n      <td>100</td>\n      <td>0.968745</td>\n      <td>1988-1995</td>\n    </tr>\n    <tr>\n      <th>X</th>\n      <td>Discovery observation</td>\n      <td>26</td>\n      <td>0.0010339</td>\n      <td>0</td>\n      <td>NaN</td>\n      <td>1898-2018</td>\n    </tr>\n    <tr>\n      <th>E</th>\n      <td>Occultations derived observation</td>\n      <td>7</td>\n      <td>0.000278358</td>\n      <td>100</td>\n      <td>1.15912</td>\n      <td>1975-2011</td>\n    </tr>\n    <tr>\n      <th>e</th>\n      <td>Encoder</td>\n      <td>2</td>\n      <td>7.9531e-05</td>\n      <td>100</td>\n      <td>0.724224</td>\n      <td>1993-1994</td>\n    </tr>\n  </tbody>\n</table>\n</div>"
     },
     "metadata": {},
     "execution_count": 6
    }
   ],
   "source": [
    "table"
   ]
  },
  {
   "cell_type": "markdown",
   "metadata": {},
   "source": [
    "---\n",
    "# Statistics per space telescope"
   ]
  },
  {
   "cell_type": "code",
   "execution_count": 7,
   "metadata": {},
   "outputs": [],
   "source": [
    "def get_space_accuracy(code):\n",
    "    df = OSdata[(OSdata['acceptance']==True) & (OSdata['measure_type'] == 'S') & (OSdata['obs_code']==code) & (OSdata['xhi'] < 3) & (OSdata['RA_delta'] < 100) ]\n",
    "    return np.sqrt(np.power(df.xhi, 2).sum() / len(df))"
   ]
  },
  {
   "cell_type": "code",
   "execution_count": 8,
   "metadata": {
    "tags": []
   },
   "outputs": [
    {
     "output_type": "execute_result",
     "data": {
      "text/plain": "                         count acceptance  accuracy\nSpitzer Space Telescope      0          x       NaN\nHubble Space Telescope       2        100   2.40075\nGaia                         0          x       NaN\nWISE                     39479    99.9823  0.783923\nNEOSSat                      3        100   1.56667\nKepler                      16        100  0.729576\nTESS                      4993      99.98   1.25043",
      "text/html": "<div>\n<style scoped>\n    .dataframe tbody tr th:only-of-type {\n        vertical-align: middle;\n    }\n\n    .dataframe tbody tr th {\n        vertical-align: top;\n    }\n\n    .dataframe thead th {\n        text-align: right;\n    }\n</style>\n<table border=\"1\" class=\"dataframe\">\n  <thead>\n    <tr style=\"text-align: right;\">\n      <th></th>\n      <th>count</th>\n      <th>acceptance</th>\n      <th>accuracy</th>\n    </tr>\n  </thead>\n  <tbody>\n    <tr>\n      <th>Spitzer Space Telescope</th>\n      <td>0</td>\n      <td>x</td>\n      <td>NaN</td>\n    </tr>\n    <tr>\n      <th>Hubble Space Telescope</th>\n      <td>2</td>\n      <td>100</td>\n      <td>2.40075</td>\n    </tr>\n    <tr>\n      <th>Gaia</th>\n      <td>0</td>\n      <td>x</td>\n      <td>NaN</td>\n    </tr>\n    <tr>\n      <th>WISE</th>\n      <td>39479</td>\n      <td>99.9823</td>\n      <td>0.783923</td>\n    </tr>\n    <tr>\n      <th>NEOSSat</th>\n      <td>3</td>\n      <td>100</td>\n      <td>1.56667</td>\n    </tr>\n    <tr>\n      <th>Kepler</th>\n      <td>16</td>\n      <td>100</td>\n      <td>0.729576</td>\n    </tr>\n    <tr>\n      <th>TESS</th>\n      <td>4993</td>\n      <td>99.98</td>\n      <td>1.25043</td>\n    </tr>\n  </tbody>\n</table>\n</div>"
     },
     "metadata": {},
     "execution_count": 8
    }
   ],
   "source": [
    "space_telescopes = {'Spitzer Space Telescope':'245', \n",
    "                    'Hubble Space Telescope':'250', \n",
    "                    'Gaia':'258', \n",
    "                    'WISE':'C51', \n",
    "                    'NEOSSat':'C53', \n",
    "                    'Kepler':'C55', \n",
    "                    'TESS':'C57'}\n",
    "ST_df = pd.DataFrame(index=space_telescopes.keys(), columns=['count', 'acceptance', 'accuracy'])\n",
    "for name, obs in space_telescopes.items():\n",
    "    count = len(OSdata[(OSdata['obs_code']==obs) & (OSdata['measure_type']=='S')])\n",
    "    acceptance = (len(OSdata[(OSdata['obs_code']==obs) & (OSdata['acceptance']==True) & (OSdata['measure_type']=='S')]) / count * 100) if count > 0 else 'x'\n",
    "    accuracy = get_space_accuracy(obs)\n",
    "    ST_df.loc[name] = pd.Series({'count':count, 'acceptance':acceptance, 'accuracy':accuracy})\n",
    "ST_df\n"
   ]
  },
  {
   "cell_type": "code",
   "execution_count": 9,
   "metadata": {},
   "outputs": [],
   "source": [
    "#table.to_csv(r'outData\\obs_type_stats.csv')\n",
    "#ST_df.to_csv(r'outData\\space_telescope_stats.csv')"
   ]
  },
  {
   "cell_type": "code",
   "execution_count": 10,
   "metadata": {},
   "outputs": [],
   "source": [
    "table.to_clipboard()"
   ]
  },
  {
   "cell_type": "code",
   "execution_count": 11,
   "metadata": {},
   "outputs": [],
   "source": [
    "ST_df.to_clipboard()"
   ]
  }
 ]
}