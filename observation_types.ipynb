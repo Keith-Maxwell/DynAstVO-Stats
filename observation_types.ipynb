{
 "metadata": {
  "language_info": {
   "codemirror_mode": {
    "name": "ipython",
    "version": 3
   },
   "file_extension": ".py",
   "mimetype": "text/x-python",
   "name": "python",
   "nbconvert_exporter": "python",
   "pygments_lexer": "ipython3",
   "version": "3.8.3-final"
  },
  "orig_nbformat": 2,
  "kernelspec": {
   "name": "python38364bitvenvvenvf0654de04bec4787b00a87ccaf592e6a",
   "language": "python",
   "display_name": "Python 3.8.3 64-bit ('venv': venv)"
  }
 },
 "nbformat": 4,
 "nbformat_minor": 2,
 "cells": [
  {
   "cell_type": "code",
   "execution_count": 1,
   "metadata": {},
   "outputs": [],
   "source": [
    "import pandas as pd\n",
    "import numpy as np"
   ]
  },
  {
   "cell_type": "code",
   "execution_count": 2,
   "metadata": {},
   "outputs": [],
   "source": [
    "OScolnames = {'object_number': 'category',\n",
    "              'obs_type': 'category',\n",
    "              'measure_type': 'category',\n",
    "              '?': 'category',\n",
    "              'year': np.uint16,\n",
    "              'month': np.uint8,\n",
    "              'day': np.float32,\n",
    "              'date_accuracy': np.float32,\n",
    "              'RA_HH': np.uint8,\n",
    "              'RA_mm': np.uint8,\n",
    "              'RA_ss': np.float32,\n",
    "              'RA_accuracy': np.float32,\n",
    "              'RA_RMS': np.float32,\n",
    "              #'RA_F': 'category',\n",
    "              'RA_bias': np.float32,\n",
    "              'RA_delta': np.float32,\n",
    "              'DEC_HH': np.uint8,\n",
    "              'DEC_mm': np.uint8,\n",
    "              'DEC_ss': np.float32,\n",
    "              'DEC_accuracy': np.float32,\n",
    "              'DEC_RMS': np.float32,\n",
    "              #'DEC_F': 'category',\n",
    "              'DEC_bias': np.float32,\n",
    "              'DEC_delta': np.float32,\n",
    "              'MAG': np.float32,\n",
    "              'MAG_B': 'category',\n",
    "              'MAG_RMS': np.float32,\n",
    "              'MAG_resid': np.float32,\n",
    "              'catalog': 'category',\n",
    "              'obs_code': 'category',\n",
    "              'xhi': np.float32,\n",
    "              'acceptance': 'bool',\n",
    "              'mag_acceptance': 'bool'}\n",
    "c=[(0, 11), (11, 13), (13, 15), (15, 17), (17, 21), (22, 25), (25, 40), (40, 50), (50, 53), (53, 56), (56, 64), (64, 77), (77, 83), (87, 94), (94, 103), (103, 107), (107, 110), (110, 117), (117, 130), (128, 136), (141, 148), (149, 156), (156, 161), (161, 164), (164, 170), (170, 178), (178, 180), (180, 186), (189, 194), (194, 196), (196, 197)]\n",
    "\n",
    "OSdata = pd.read_fwf(r'Data\\NEODYS_cleaned.txt', header=None, names=list(OScolnames.keys()), dtype={'obs_code': 'category', 'measure_type': 'category'}, colspecs=c, low_memory=True, index_col=False, usecols=['year', 'obs_code', 'acceptance', 'measure_type', 'RA_delta', 'DEC_delta', 'xhi', 'object_number'], error_bad_lines=False)\n",
    "\n",
    "OSdata['delta_vect'] = np.sqrt(np.power(OSdata.RA_delta,2) + np.power(OSdata.DEC_delta,2))"
   ]
  },
  {
   "cell_type": "markdown",
   "metadata": {},
   "source": [
    "---\n",
    "# Statistics per observation type"
   ]
  },
  {
   "cell_type": "code",
   "execution_count": 3,
   "metadata": {},
   "outputs": [],
   "source": [
    "types_dict = {'C':'CCD',\n",
    "              'S':'Space observation',\n",
    "              'A':'Observations from B1950.0 converted to J2000.',\n",
    "              'c':'Corrected without republication CCD observation',\n",
    "              'P': 'Photographic',\n",
    "              'T':'Meridian or transit circle ',\n",
    "              'X':'Discovery observation ',\n",
    "              'x':'Discovery observation ',\n",
    "              'M':'Micrometer ',\n",
    "              'H':'Hipparcos geocentric observation ',\n",
    "              'R':'Radar Observation',\n",
    "              'E':'Occultations derived observation ',\n",
    "              'V':'Roving observer observation',\n",
    "              'n':'Video frames',\n",
    "              'e':'Encoder ' }"
   ]
  },
  {
   "cell_type": "code",
   "execution_count": 4,
   "metadata": {},
   "outputs": [],
   "source": [
    "def get_w_accuracy(typ):\n",
    "    df = OSdata[(OSdata['acceptance']==True) & (OSdata['measure_type'] == typ)]\n",
    "    return np.sqrt(np.power(df.xhi, 2).sum() / len(df))\n",
    "def get_accuracy(typ):\n",
    "    df = OSdata[(OSdata['acceptance']==True) & (OSdata['measure_type'] == typ)]\n",
    "    return np.sqrt(np.power(df.delta_vect, 2).sum() / len(df))"
   ]
  },
  {
   "cell_type": "code",
   "execution_count": 13,
   "metadata": {},
   "outputs": [],
   "source": [
    "types = list(OSdata['measure_type'].value_counts().index)\n",
    "table = pd.DataFrame(index=types, columns=['description', 'count', 'percentage', 'acceptance (%)', 'weighted accuracy (arcsec)', 'accuracy (arcsec)', 'timespan'])\n",
    "for t in types:\n",
    "    description = types_dict[t]\n",
    "    count = len(OSdata[(OSdata['measure_type'] == t)].index)\n",
    "    percentage = count / len(OSdata.index) * 100\n",
    "    acceptance = (len(OSdata[(OSdata['measure_type'] == t) & (OSdata['acceptance']==True) & (OSdata['xhi'] < 3) & (OSdata['RA_delta'] < 100)]) / count * 100) if count > 0 else np.nan\n",
    "    weighted_accuracy = get_w_accuracy(t)\n",
    "    accuracy = get_accuracy(t)\n",
    "    timespan = str(OSdata[OSdata['measure_type'] == t].year.min()) + '-' + str(OSdata[OSdata['measure_type'] == t].year.max())\n",
    "    table.loc[t] = pd.Series({'description':description, 'count':count, 'percentage':percentage, 'acceptance (%)':acceptance, 'weighted accuracy (arcsec)':weighted_accuracy, 'accuracy (arcsec)':accuracy, 'timespan':timespan})"
   ]
  },
  {
   "cell_type": "code",
   "execution_count": 14,
   "metadata": {
    "tags": []
   },
   "outputs": [
    {
     "output_type": "execute_result",
     "data": {
      "text/plain": "                                       description    count   percentage  \\\nC                                              CCD  2419374      97.1831   \nS                                Space observation    44174      1.77441   \nA    Observations from B1950.0 converted to J2000.    14103     0.566499   \nc  Corrected without republication CCD observation     5223     0.209801   \nP                                     Photographic     3947     0.158546   \nn                                     Video frames     1728    0.0694115   \nM                                      Micrometer       642    0.0257883   \nV                      Roving observer observation      119   0.00478007   \nx                           Discovery observation        97   0.00389636   \nT                      Meridian or transit circle        59   0.00236995   \nX                           Discovery observation        26   0.00104439   \nE                Occultations derived observation         7  0.000281181   \ne                                         Encoder         2  8.03374e-05   \n\n  acceptance (%) weighted accuracy (arcsec) accuracy (arcsec)   timespan  \nC        99.2444                   0.737659           0.67104  1990-2020  \nS        99.8687                   0.856024          0.975464  1994-2020  \nA        98.7308                   0.851423            2.2486  1893-1998  \nc        97.2047                    1.04167          0.703853  1991-2013  \nP        99.8227                   0.724507           1.86745  1898-2017  \nn        99.8843                   0.379233          0.467477  2009-2020  \nM        99.8442                   0.858963           2.58228  1898-1935  \nV        84.8739                   0.789049          0.805669  2001-2020  \nx            100                 0.00963242             8.864  2010-2010  \nT            100                   0.968832          0.483832  1988-1995  \nX              0                        NaN               NaN  1898-2018  \nE            100                    1.15558          0.245796  1975-2011  \ne            100                   0.724224          0.541617  1993-1994  ",
      "text/html": "<div>\n<style scoped>\n    .dataframe tbody tr th:only-of-type {\n        vertical-align: middle;\n    }\n\n    .dataframe tbody tr th {\n        vertical-align: top;\n    }\n\n    .dataframe thead th {\n        text-align: right;\n    }\n</style>\n<table border=\"1\" class=\"dataframe\">\n  <thead>\n    <tr style=\"text-align: right;\">\n      <th></th>\n      <th>description</th>\n      <th>count</th>\n      <th>percentage</th>\n      <th>acceptance (%)</th>\n      <th>weighted accuracy (arcsec)</th>\n      <th>accuracy (arcsec)</th>\n      <th>timespan</th>\n    </tr>\n  </thead>\n  <tbody>\n    <tr>\n      <th>C</th>\n      <td>CCD</td>\n      <td>2419374</td>\n      <td>97.1831</td>\n      <td>99.2444</td>\n      <td>0.737659</td>\n      <td>0.67104</td>\n      <td>1990-2020</td>\n    </tr>\n    <tr>\n      <th>S</th>\n      <td>Space observation</td>\n      <td>44174</td>\n      <td>1.77441</td>\n      <td>99.8687</td>\n      <td>0.856024</td>\n      <td>0.975464</td>\n      <td>1994-2020</td>\n    </tr>\n    <tr>\n      <th>A</th>\n      <td>Observations from B1950.0 converted to J2000.</td>\n      <td>14103</td>\n      <td>0.566499</td>\n      <td>98.7308</td>\n      <td>0.851423</td>\n      <td>2.2486</td>\n      <td>1893-1998</td>\n    </tr>\n    <tr>\n      <th>c</th>\n      <td>Corrected without republication CCD observation</td>\n      <td>5223</td>\n      <td>0.209801</td>\n      <td>97.2047</td>\n      <td>1.04167</td>\n      <td>0.703853</td>\n      <td>1991-2013</td>\n    </tr>\n    <tr>\n      <th>P</th>\n      <td>Photographic</td>\n      <td>3947</td>\n      <td>0.158546</td>\n      <td>99.8227</td>\n      <td>0.724507</td>\n      <td>1.86745</td>\n      <td>1898-2017</td>\n    </tr>\n    <tr>\n      <th>n</th>\n      <td>Video frames</td>\n      <td>1728</td>\n      <td>0.0694115</td>\n      <td>99.8843</td>\n      <td>0.379233</td>\n      <td>0.467477</td>\n      <td>2009-2020</td>\n    </tr>\n    <tr>\n      <th>M</th>\n      <td>Micrometer</td>\n      <td>642</td>\n      <td>0.0257883</td>\n      <td>99.8442</td>\n      <td>0.858963</td>\n      <td>2.58228</td>\n      <td>1898-1935</td>\n    </tr>\n    <tr>\n      <th>V</th>\n      <td>Roving observer observation</td>\n      <td>119</td>\n      <td>0.00478007</td>\n      <td>84.8739</td>\n      <td>0.789049</td>\n      <td>0.805669</td>\n      <td>2001-2020</td>\n    </tr>\n    <tr>\n      <th>x</th>\n      <td>Discovery observation</td>\n      <td>97</td>\n      <td>0.00389636</td>\n      <td>100</td>\n      <td>0.00963242</td>\n      <td>8.864</td>\n      <td>2010-2010</td>\n    </tr>\n    <tr>\n      <th>T</th>\n      <td>Meridian or transit circle</td>\n      <td>59</td>\n      <td>0.00236995</td>\n      <td>100</td>\n      <td>0.968832</td>\n      <td>0.483832</td>\n      <td>1988-1995</td>\n    </tr>\n    <tr>\n      <th>X</th>\n      <td>Discovery observation</td>\n      <td>26</td>\n      <td>0.00104439</td>\n      <td>0</td>\n      <td>NaN</td>\n      <td>NaN</td>\n      <td>1898-2018</td>\n    </tr>\n    <tr>\n      <th>E</th>\n      <td>Occultations derived observation</td>\n      <td>7</td>\n      <td>0.000281181</td>\n      <td>100</td>\n      <td>1.15558</td>\n      <td>0.245796</td>\n      <td>1975-2011</td>\n    </tr>\n    <tr>\n      <th>e</th>\n      <td>Encoder</td>\n      <td>2</td>\n      <td>8.03374e-05</td>\n      <td>100</td>\n      <td>0.724224</td>\n      <td>0.541617</td>\n      <td>1993-1994</td>\n    </tr>\n  </tbody>\n</table>\n</div>"
     },
     "metadata": {},
     "execution_count": 14
    }
   ],
   "source": [
    "table"
   ]
  },
  {
   "cell_type": "markdown",
   "metadata": {},
   "source": [
    "---\n",
    "# Statistics per space telescope"
   ]
  },
  {
   "cell_type": "code",
   "execution_count": 7,
   "metadata": {},
   "outputs": [],
   "source": [
    "def get_space_waccuracy(code):\n",
    "    df = OSdata[(OSdata['acceptance']==True) & (OSdata['measure_type'] == 'S') & (OSdata['obs_code']==code) & (OSdata['xhi'] < 3) & (OSdata['RA_delta'] < 100) ]\n",
    "    return np.sqrt(np.power(df.xhi, 2).sum() / len(df))\n",
    "def get_space_accuracy(code):\n",
    "    df = OSdata[(OSdata['acceptance']==True) & (OSdata['measure_type'] == 'S') & (OSdata['obs_code']==code) & (OSdata['xhi'] < 3) & (OSdata['RA_delta'] < 100) ]\n",
    "    return np.sqrt(np.power(df.delta_vect, 2).sum() / len(df))"
   ]
  },
  {
   "cell_type": "code",
   "execution_count": 12,
   "metadata": {
    "tags": []
   },
   "outputs": [
    {
     "output_type": "execute_result",
     "data": {
      "text/plain": "                         count acceptance (%) weighted accuracy (arcsec)  \\\nSpitzer Space Telescope      0            NaN                        NaN   \nHubble Space Telescope       2            100                    2.40075   \nGaia                         0            NaN                        NaN   \nWISE                     39160        99.9821                   0.784003   \nNEOSSat                      3            100                    1.56667   \nKepler                      16            100                   0.729576   \nTESS                      4993          99.98                    1.25253   \n\n                        accuracy (arcsec)  \nSpitzer Space Telescope               NaN  \nHubble Space Telescope             3.1067  \nGaia                                  NaN  \nWISE                             0.782145  \nNEOSSat                           2.34524  \nKepler                           0.910716  \nTESS                              1.87742  ",
      "text/html": "<div>\n<style scoped>\n    .dataframe tbody tr th:only-of-type {\n        vertical-align: middle;\n    }\n\n    .dataframe tbody tr th {\n        vertical-align: top;\n    }\n\n    .dataframe thead th {\n        text-align: right;\n    }\n</style>\n<table border=\"1\" class=\"dataframe\">\n  <thead>\n    <tr style=\"text-align: right;\">\n      <th></th>\n      <th>count</th>\n      <th>acceptance (%)</th>\n      <th>weighted accuracy (arcsec)</th>\n      <th>accuracy (arcsec)</th>\n    </tr>\n  </thead>\n  <tbody>\n    <tr>\n      <th>Spitzer Space Telescope</th>\n      <td>0</td>\n      <td>NaN</td>\n      <td>NaN</td>\n      <td>NaN</td>\n    </tr>\n    <tr>\n      <th>Hubble Space Telescope</th>\n      <td>2</td>\n      <td>100</td>\n      <td>2.40075</td>\n      <td>3.1067</td>\n    </tr>\n    <tr>\n      <th>Gaia</th>\n      <td>0</td>\n      <td>NaN</td>\n      <td>NaN</td>\n      <td>NaN</td>\n    </tr>\n    <tr>\n      <th>WISE</th>\n      <td>39160</td>\n      <td>99.9821</td>\n      <td>0.784003</td>\n      <td>0.782145</td>\n    </tr>\n    <tr>\n      <th>NEOSSat</th>\n      <td>3</td>\n      <td>100</td>\n      <td>1.56667</td>\n      <td>2.34524</td>\n    </tr>\n    <tr>\n      <th>Kepler</th>\n      <td>16</td>\n      <td>100</td>\n      <td>0.729576</td>\n      <td>0.910716</td>\n    </tr>\n    <tr>\n      <th>TESS</th>\n      <td>4993</td>\n      <td>99.98</td>\n      <td>1.25253</td>\n      <td>1.87742</td>\n    </tr>\n  </tbody>\n</table>\n</div>"
     },
     "metadata": {},
     "execution_count": 12
    }
   ],
   "source": [
    "space_telescopes = {'Spitzer Space Telescope':'245', \n",
    "                    'Hubble Space Telescope':'250', \n",
    "                    'Gaia':'258', \n",
    "                    'WISE':'C51', \n",
    "                    'NEOSSat':'C53', \n",
    "                    'Kepler':'C55', \n",
    "                    'TESS':'C57'}\n",
    "ST_df = pd.DataFrame(index=space_telescopes.keys(), columns=['count', 'acceptance (%)', 'weighted accuracy (arcsec)', 'accuracy (arcsec)'])\n",
    "for name, obs in space_telescopes.items():\n",
    "    count = len(OSdata[(OSdata['obs_code']==obs) & (OSdata['measure_type']=='S')])\n",
    "    acceptance = (len(OSdata[(OSdata['obs_code']==obs) & (OSdata['acceptance']==True) & (OSdata['measure_type']=='S')]) / count * 100) if count > 0 else np.nan\n",
    "    weighted_accuracy = get_space_waccuracy(obs)\n",
    "    accuracy = get_space_accuracy(obs)\n",
    "    ST_df.loc[name] = pd.Series({'count':count, 'acceptance (%)':acceptance, 'weighted accuracy (arcsec)':weighted_accuracy, 'accuracy (arcsec)':accuracy})\n",
    "ST_df\n"
   ]
  },
  {
   "cell_type": "code",
   "execution_count": 9,
   "metadata": {},
   "outputs": [],
   "source": [
    "#table.to_csv(r'outData\\obs_type_stats.csv')\n",
    "#ST_df.to_csv(r'outData\\space_telescope_stats.csv')"
   ]
  },
  {
   "cell_type": "code",
   "execution_count": 10,
   "metadata": {},
   "outputs": [],
   "source": [
    "table.to_clipboard()"
   ]
  },
  {
   "cell_type": "code",
   "execution_count": 11,
   "metadata": {},
   "outputs": [],
   "source": [
    "ST_df.to_clipboard()"
   ]
  }
 ]
}