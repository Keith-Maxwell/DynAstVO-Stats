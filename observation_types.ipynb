{
 "metadata": {
  "language_info": {
   "codemirror_mode": {
    "name": "ipython",
    "version": 3
   },
   "file_extension": ".py",
   "mimetype": "text/x-python",
   "name": "python",
   "nbconvert_exporter": "python",
   "pygments_lexer": "ipython3",
   "version": 3
  },
  "orig_nbformat": 2,
  "kernelspec": {
   "name": "python_defaultSpec_1595506592052",
   "display_name": "Python 3.8.3 64-bit ('venv': venv)"
  }
 },
 "nbformat": 4,
 "nbformat_minor": 2,
 "cells": [
  {
   "cell_type": "code",
   "execution_count": 5,
   "metadata": {},
   "outputs": [],
   "source": [
    "import pandas as pd\n",
    "import numpy as np"
   ]
  },
  {
   "cell_type": "code",
   "execution_count": 23,
   "metadata": {},
   "outputs": [],
   "source": [
    "OScolnames = {'object_number': 'category',\n",
    "              'obs_type': 'category',\n",
    "              'measure_type': 'category',\n",
    "              '?': 'category',\n",
    "              'year': np.uint16,\n",
    "              'month': np.uint8,\n",
    "              'day': np.float32,\n",
    "              'date_accuracy': np.float32,\n",
    "              'RA_HH': np.uint8,\n",
    "              'RA_mm': np.uint8,\n",
    "              'RA_ss': np.float32,\n",
    "              'RA_accuracy': np.float32,\n",
    "              'RA_RMS': np.float32,\n",
    "              #'RA_F': 'category',\n",
    "              'RA_bias': np.float32,\n",
    "              'RA_delta': np.float32,\n",
    "              'DEC_HH': np.uint8,\n",
    "              'DEC_mm': np.uint8,\n",
    "              'DEC_ss': np.float32,\n",
    "              'DEC_accuracy': np.float32,\n",
    "              'DEC_RMS': np.float32,\n",
    "              #'DEC_F': 'category',\n",
    "              'DEC_bias': np.float32,\n",
    "              'DEC_delta': np.float32,\n",
    "              'MAG': np.float32,\n",
    "              'MAG_B': 'category',\n",
    "              'MAG_RMS': np.float32,\n",
    "              'MAG_resid': np.float32,\n",
    "              'catalog': 'category',\n",
    "              'obs_code': 'category',\n",
    "              'xhi_square': np.float32,\n",
    "              'acceptance': 'bool',\n",
    "              'mag_acceptance': 'bool'}\n",
    "c=[(0, 11), (11, 13), (13, 15), (15, 17), (17, 21), (22, 25), (25, 40), (40, 50), (50, 53), (53, 56), (56, 64), (64, 77), (77, 83), (87, 96), (96, 103), (103, 107), (107, 110), (110, 117), (117, 130), (128, 136), (141, 150), (150, 156), (156, 161), (161, 164), (164, 170), (170, 178), (178, 180), (180, 186), (189, 194), (194, 196), (196, 197)]\n",
    "\n",
    "OSdata = pd.read_fwf(r'Data\\NEODYS_cleaned.txt', header=None, names=list(OScolnames.keys()), dtype={'obs_code': 'category', 'measure_type': 'category'}, colspecs=c, low_memory=True, index_col=False, usecols=['year', 'obs_code', 'acceptance', 'measure_type', 'RA_delta', 'DEC_delta'], error_bad_lines=False)\n",
    "\n",
    "OSdata['delta_vect'] = np.sqrt(np.power(OSdata.RA_delta,2) + np.power(OSdata.DEC_delta,2))"
   ]
  },
  {
   "cell_type": "code",
   "execution_count": 69,
   "metadata": {},
   "outputs": [],
   "source": [
    "types_dict = {'C':'CCD',\n",
    "              'S':'Space observation',\n",
    "              'A':'Observations from B1950.0 converted to J2000.',\n",
    "              'c':'Corrected without republication CCD observation',\n",
    "              'P': 'Photographic',\n",
    "              'T':'Meridian or transit circle ',\n",
    "              'X':'Discovery observation ',\n",
    "              'x':'Discovery observation ',\n",
    "              'M':'Micrometer ',\n",
    "              'H':'Hipparcos geocentric observation ',\n",
    "              'R':'Radar Observation',\n",
    "              'E':'Occultations derived observation ',\n",
    "              'V':'Roving observer observation',\n",
    "              'n':'Mini-normal place derived from averaging observations from video frames',\n",
    "              'e':'Encoder ' }"
   ]
  },
  {
   "cell_type": "code",
   "execution_count": 70,
   "metadata": {},
   "outputs": [],
   "source": [
    "types = list(OSdata['measure_type'].value_counts().index)\n",
    "table = pd.DataFrame(index=types, columns=['description', 'count', 'percentage', 'acceptance', 'timespan'])\n",
    "for t in types:\n",
    "    description = types_dict[t]\n",
    "    count = len(OSdata[(OSdata['measure_type'] == t)].index)\n",
    "    percentage = count / len(OSdata.index) * 100\n",
    "    acceptance = (len(OSdata[(OSdata['measure_type'] == t) & (OSdata['acceptance']==True)]) / count * 100) if count > 0 else 'x'\n",
    "    timespan = str(OSdata[OSdata['measure_type'] == t].year.min()) + '-' + str(OSdata[OSdata['measure_type'] == t].year.max())\n",
    "    table.loc[t] = pd.Series({'description':description, 'count':count, 'percentage':percentage, 'acceptance':acceptance, 'timespan':timespan})"
   ]
  },
  {
   "cell_type": "code",
   "execution_count": 71,
   "metadata": {
    "tags": []
   },
   "outputs": [
    {
     "output_type": "execute_result",
     "data": {
      "text/plain": "                                         description    count   percentage  \\\nC                                                CCD  2444198      97.1931   \nS                                  Space observation    44493      1.76926   \nA      Observations from B1950.0 converted to J2000.    14125     0.561678   \nc    Corrected without republication CCD observation     5308     0.211072   \nP                                       Photographic     3955      0.15727   \nn  Mini-normal place derived from averaging obser...     1736    0.0690317   \nM                                        Micrometer       642     0.025529   \nV                        Roving observer observation      134   0.00532849   \nx                             Discovery observation       101   0.00401625   \nT                        Meridian or transit circle        59   0.00234612   \nX                             Discovery observation        26   0.00103389   \nE                  Occultations derived observation         7  0.000278354   \ne                                           Encoder         2  7.95296e-05   \n\n  acceptance   timespan  \nC    99.3748  1990-2020  \nS     99.982  1994-2020  \nA    98.9593  1893-1998  \nc    97.5885  1991-2013  \nP        100  1898-2017  \nn    99.8848  2009-2020  \nM        100  1898-1935  \nV    86.5672  2001-2020  \nx        100  2010-2010  \nT        100  1988-1995  \nX          0  1898-2018  \nE        100  1975-2011  \ne        100  1993-1994  ",
      "text/html": "<div>\n<style scoped>\n    .dataframe tbody tr th:only-of-type {\n        vertical-align: middle;\n    }\n\n    .dataframe tbody tr th {\n        vertical-align: top;\n    }\n\n    .dataframe thead th {\n        text-align: right;\n    }\n</style>\n<table border=\"1\" class=\"dataframe\">\n  <thead>\n    <tr style=\"text-align: right;\">\n      <th></th>\n      <th>description</th>\n      <th>count</th>\n      <th>percentage</th>\n      <th>acceptance</th>\n      <th>timespan</th>\n    </tr>\n  </thead>\n  <tbody>\n    <tr>\n      <th>C</th>\n      <td>CCD</td>\n      <td>2444198</td>\n      <td>97.1931</td>\n      <td>99.3748</td>\n      <td>1990-2020</td>\n    </tr>\n    <tr>\n      <th>S</th>\n      <td>Space observation</td>\n      <td>44493</td>\n      <td>1.76926</td>\n      <td>99.982</td>\n      <td>1994-2020</td>\n    </tr>\n    <tr>\n      <th>A</th>\n      <td>Observations from B1950.0 converted to J2000.</td>\n      <td>14125</td>\n      <td>0.561678</td>\n      <td>98.9593</td>\n      <td>1893-1998</td>\n    </tr>\n    <tr>\n      <th>c</th>\n      <td>Corrected without republication CCD observation</td>\n      <td>5308</td>\n      <td>0.211072</td>\n      <td>97.5885</td>\n      <td>1991-2013</td>\n    </tr>\n    <tr>\n      <th>P</th>\n      <td>Photographic</td>\n      <td>3955</td>\n      <td>0.15727</td>\n      <td>100</td>\n      <td>1898-2017</td>\n    </tr>\n    <tr>\n      <th>n</th>\n      <td>Mini-normal place derived from averaging obser...</td>\n      <td>1736</td>\n      <td>0.0690317</td>\n      <td>99.8848</td>\n      <td>2009-2020</td>\n    </tr>\n    <tr>\n      <th>M</th>\n      <td>Micrometer</td>\n      <td>642</td>\n      <td>0.025529</td>\n      <td>100</td>\n      <td>1898-1935</td>\n    </tr>\n    <tr>\n      <th>V</th>\n      <td>Roving observer observation</td>\n      <td>134</td>\n      <td>0.00532849</td>\n      <td>86.5672</td>\n      <td>2001-2020</td>\n    </tr>\n    <tr>\n      <th>x</th>\n      <td>Discovery observation</td>\n      <td>101</td>\n      <td>0.00401625</td>\n      <td>100</td>\n      <td>2010-2010</td>\n    </tr>\n    <tr>\n      <th>T</th>\n      <td>Meridian or transit circle</td>\n      <td>59</td>\n      <td>0.00234612</td>\n      <td>100</td>\n      <td>1988-1995</td>\n    </tr>\n    <tr>\n      <th>X</th>\n      <td>Discovery observation</td>\n      <td>26</td>\n      <td>0.00103389</td>\n      <td>0</td>\n      <td>1898-2018</td>\n    </tr>\n    <tr>\n      <th>E</th>\n      <td>Occultations derived observation</td>\n      <td>7</td>\n      <td>0.000278354</td>\n      <td>100</td>\n      <td>1975-2011</td>\n    </tr>\n    <tr>\n      <th>e</th>\n      <td>Encoder</td>\n      <td>2</td>\n      <td>7.95296e-05</td>\n      <td>100</td>\n      <td>1993-1994</td>\n    </tr>\n  </tbody>\n</table>\n</div>"
     },
     "metadata": {},
     "execution_count": 71
    }
   ],
   "source": [
    "table['count'] = table['count'].astype(int)\n",
    "table"
   ]
  },
  {
   "cell_type": "code",
   "execution_count": 68,
   "metadata": {
    "tags": []
   },
   "outputs": [
    {
     "output_type": "execute_result",
     "data": {
      "text/plain": "                         count acceptance\nSpitzer Space Telescope      0          x\nHubble Space Telescope       2        100\nGaia                         0          x\nWISE                     39479    99.9823\nNEOSSat                      3        100\nKepler                      16        100\nTESS                      4993      99.98",
      "text/html": "<div>\n<style scoped>\n    .dataframe tbody tr th:only-of-type {\n        vertical-align: middle;\n    }\n\n    .dataframe tbody tr th {\n        vertical-align: top;\n    }\n\n    .dataframe thead th {\n        text-align: right;\n    }\n</style>\n<table border=\"1\" class=\"dataframe\">\n  <thead>\n    <tr style=\"text-align: right;\">\n      <th></th>\n      <th>count</th>\n      <th>acceptance</th>\n    </tr>\n  </thead>\n  <tbody>\n    <tr>\n      <th>Spitzer Space Telescope</th>\n      <td>0</td>\n      <td>x</td>\n    </tr>\n    <tr>\n      <th>Hubble Space Telescope</th>\n      <td>2</td>\n      <td>100</td>\n    </tr>\n    <tr>\n      <th>Gaia</th>\n      <td>0</td>\n      <td>x</td>\n    </tr>\n    <tr>\n      <th>WISE</th>\n      <td>39479</td>\n      <td>99.9823</td>\n    </tr>\n    <tr>\n      <th>NEOSSat</th>\n      <td>3</td>\n      <td>100</td>\n    </tr>\n    <tr>\n      <th>Kepler</th>\n      <td>16</td>\n      <td>100</td>\n    </tr>\n    <tr>\n      <th>TESS</th>\n      <td>4993</td>\n      <td>99.98</td>\n    </tr>\n  </tbody>\n</table>\n</div>"
     },
     "metadata": {},
     "execution_count": 68
    }
   ],
   "source": [
    "space_telescopes = {'Spitzer Space Telescope':'245', \n",
    "                    'Hubble Space Telescope':'250', \n",
    "                    'Gaia':'258', \n",
    "                    'WISE':'C51', \n",
    "                    'NEOSSat':'C53', \n",
    "                    'Kepler':'C55', \n",
    "                    'TESS':'C57'}\n",
    "ST_df = pd.DataFrame(index=space_telescopes.keys(), columns=['count', 'acceptance'])\n",
    "for name, obs in space_telescopes.items():\n",
    "    count = len(OSdata[(OSdata['obs_code']==obs) & (OSdata['measure_type']=='S')])\n",
    "    acceptance = (len(OSdata[(OSdata['obs_code']==obs) & (OSdata['acceptance']==True) & (OSdata['measure_type']=='S')]) / count * 100) if count > 0 else 'x'\n",
    "    ST_df.loc[name] = pd.Series({'count':count, 'acceptance':acceptance})\n",
    "ST_df\n"
   ]
  },
  {
   "cell_type": "code",
   "execution_count": 73,
   "metadata": {},
   "outputs": [],
   "source": [
    "table.to_csv('obs_type_stats.csv')\n",
    "table.to_clipboard()\n",
    "ST_df.to_csv('space_telescope_stats.csv')"
   ]
  },
  {
   "cell_type": "code",
   "execution_count": null,
   "metadata": {},
   "outputs": [],
   "source": []
  }
 ]
}